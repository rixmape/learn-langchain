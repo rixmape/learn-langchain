{
 "cells": [
  {
   "cell_type": "code",
   "execution_count": 1,
   "metadata": {},
   "outputs": [],
   "source": [
    "import arxiv\n",
    "from langchain.chat_models import ChatOpenAI\n",
    "from langchain.llms import OpenAI\n",
    "from langchain.agents import Tool, AgentType, initialize_agent\n",
    "from langchain.memory import ConversationBufferMemory\n",
    "from langchain.chains import LLMChain\n",
    "from langchain.prompts import PromptTemplate\n",
    "from pydantic import BaseModel, Field\n",
    "from typing import List\n",
    "from langchain.tools import StructuredTool"
   ]
  },
  {
   "cell_type": "code",
   "execution_count": 2,
   "metadata": {},
   "outputs": [],
   "source": [
    "class AnswerQuestionInput(BaseModel):\n",
    "    question: str = Field(description=\"The question to answer\")\n",
    "    abstracts: List[str] = Field(description=\"The abstracts to use\")\n",
    "\n",
    "# Create some tools that can be used by the agent\n",
    "def get_absracts(query: str) -> list[str]:\n",
    "    search = arxiv.Search(query, max_results=4)\n",
    "    return [result.summary for result in search.results()]\n",
    "\n",
    "\n",
    "def answer_question(abstracts: list[str], question: str) -> str:\n",
    "    template = (\n",
    "        \"You are a researcher at Oxford University. Your goal is to answer \"\n",
    "        \"a question. You can use the following abstracts to help you: \"\n",
    "        \"Abstracts: {abstracts}. Question: {question}. Answer: \"\n",
    "    )\n",
    "\n",
    "    prompt_template = PromptTemplate(\n",
    "        template=template,\n",
    "        input_variables=[\"abstracts\", \"question\"],\n",
    "    )\n",
    "\n",
    "    llm_chain = LLMChain(\n",
    "        llm=OpenAI(temperature=0),\n",
    "        prompt=prompt_template,\n",
    "    )\n",
    "\n",
    "    response = llm_chain.predict(\n",
    "        abstracts=\"\\n\\n\".join(abstracts),\n",
    "        question=question,\n",
    "    )\n",
    "\n",
    "    return response"
   ]
  },
  {
   "cell_type": "code",
   "execution_count": 3,
   "metadata": {},
   "outputs": [
    {
     "name": "stdout",
     "output_type": "stream",
     "text": [
      "\n",
      "\n",
      "\u001b[1m> Entering new AgentExecutor chain...\u001b[0m\n",
      "\u001b[32;1m\u001b[1;3mThought: To find abstracts about quantum computing, I can use the arXiv Search tool. Once I have the abstracts, I can use the Answer Question from Abstracts tool to answer the question \"What is quantum computing?\"\n",
      "\n",
      "Action:\n",
      "```\n",
      "{\n",
      "  \"action\": \"arXiv Search\",\n",
      "  \"action_input\": {\n",
      "    \"query\": \"quantum computing\"\n",
      "  }\n",
      "}\n",
      "```\u001b[0m\n",
      "Observation: \u001b[36;1m\u001b[1;3m['This article highlights quantum Internet computing as referring to\\ndistributed quantum computing over the quantum Internet, analogous to\\n(classical) Internet computing involving (classical) distributed computing over\\nthe (classical) Internet. Relevant to quantum Internet computing would be areas\\nof study such as quantum protocols for distributed nodes using quantum\\ninformation for computations, quantum cloud computing, delegated verifiable\\nblind or private computing, non-local gates, and distributed quantum\\napplications, over Internet-scale distances.', \"This paper investigates a variety of unconventional quantum computation\\ndevices, including fermionic quantum computers and computers that exploit\\nnonlinear quantum mechanics. It is shown that unconventional quantum computing\\ndevices can in principle compute some quantities more rapidly than\\n`conventional' quantum computers.\", \"We interpret quantum computing as a geometric evolution process by\\nreformulating finite quantum systems via Connes' noncommutative geometry. In\\nthis formulation, quantum states are represented as noncommutative connections,\\nwhile gauge transformations on the connections play a role of unitary quantum\\noperations. Thereby, a geometrical model for quantum computation is presented,\\nwhich is equivalent to the quantum circuit model. This result shows a geometric\\nway of realizing quantum computing and as such, provides an alternative\\nproposal of building a quantum computer.\", 'Quantum computation and quantum information are of great current interest in\\ncomputer science, mathematics, physical sciences and engineering. They will\\nlikely lead to a new wave of technological innovations in communication,\\ncomputation and cryptography. As the theory of quantum physics is fundamentally\\nstochastic, randomness and uncertainty are deeply rooted in quantum\\ncomputation, quantum simulation and quantum information. Consequently quantum\\nalgorithms are random in nature, and quantum simulation utilizes Monte Carlo\\ntechniques extensively. Thus statistics can play an important role in quantum\\ncomputation and quantum simulation, which in turn offer great potential to\\nrevolutionize computational statistics. While only pseudo-random numbers can be\\ngenerated by classical computers, quantum computers are able to produce genuine\\nrandom numbers; quantum computers can exponentially or quadratically speed up\\nmedian evaluation, Monte Carlo integration and Markov chain simulation. This\\npaper gives a brief review on quantum computation, quantum simulation and\\nquantum information. We introduce the basic concepts of quantum computation and\\nquantum simulation and present quantum algorithms that are known to be much\\nfaster than the available classic algorithms. We provide a statistical\\nframework for the analysis of quantum algorithms and quantum simulation.']\u001b[0m\n",
      "Thought:\u001b[32;1m\u001b[1;3mNow that I have the abstracts about quantum computing, I can use the Answer Question from Abstracts tool to answer the question \"What is quantum computing?\"\n",
      "\n",
      "Action:\n",
      "```\n",
      "{\n",
      "  \"action\": \"Answer Question from Abstracts\",\n",
      "  \"action_input\": {\n",
      "    \"question\": \"What is quantum computing?\",\n",
      "    \"abstracts\": [\n",
      "      \"This article highlights quantum Internet computing as referring to distributed quantum computing over the quantum Internet, analogous to (classical) Internet computing involving (classical) distributed computing over the (classical) Internet. Relevant to quantum Internet computing would be areas of study such as quantum protocols for distributed nodes using quantum information for computations, quantum cloud computing, delegated verifiable blind or private computing, non-local gates, and distributed quantum applications, over Internet-scale distances.\",\n",
      "      \"This paper investigates a variety of unconventional quantum computation devices, including fermionic quantum computers and computers that exploit nonlinear quantum mechanics. It is shown that unconventional quantum computing devices can in principle compute some quantities more rapidly than 'conventional' quantum computers.\",\n",
      "      \"We interpret quantum computing as a geometric evolution process by reformulating finite quantum systems via Connes' noncommutative geometry. In this formulation, quantum states are represented as noncommutative connections, while gauge transformations on the connections play a role of unitary quantum operations. Thereby, a geometrical model for quantum computation is presented, which is equivalent to the quantum circuit model. This result shows a geometric way of realizing quantum computing and as such, provides an alternative proposal of building a quantum computer.\",\n",
      "      \"Quantum computation and quantum information are of great current interest in computer science, mathematics, physical sciences and engineering. They will likely lead to a new wave of technological innovations in communication, computation and cryptography. As the theory of quantum physics is fundamentally stochastic, randomness and uncertainty are deeply rooted in quantum computation, quantum simulation and quantum information. Consequently quantum algorithms are random in nature, and quantum simulation utilizes Monte Carlo techniques extensively. Thus statistics can play an important role in quantum computation and quantum simulation, which in turn offer great potential to revolutionize computational statistics. While only pseudo-random numbers can be generated by classical computers, quantum computers are able to produce genuine random numbers; quantum computers can exponentially or quadratically speed up median evaluation, Monte Carlo integration and Markov chain simulation. This paper gives a brief review on quantum computation, quantum simulation and quantum information. We introduce the basic concepts of quantum computation and quantum simulation and present quantum algorithms that are known to be much faster than the available classic algorithms. We provide a statistical framework for the analysis of quantum algorithms and quantum simulation.\"\n",
      "    ]\n",
      "  }\n",
      "}\n",
      "```\n",
      "\n",
      "\u001b[0m\n",
      "Observation: \u001b[33;1m\u001b[1;3m\n",
      "\n",
      "Quantum computing is a form of computing that uses quantum-mechanical phenomena, such as superposition and entanglement, to perform operations on data. It is based on the principles of quantum mechanics, which describe the behavior of matter and energy at the atomic and subatomic level. Quantum computing is used to solve complex problems that are intractable for classical computers, such as simulating quantum systems, searching large databases, and factoring large numbers. It has the potential to revolutionize computing, with applications in areas such as cryptography, artificial intelligence, and materials science.\u001b[0m\n",
      "Thought:\u001b[32;1m\u001b[1;3mI know what to respond.\n",
      "\n",
      "Action:\n",
      "```\n",
      "{\n",
      "  \"action\": \"Final Answer\",\n",
      "  \"action_input\": \"Quantum computing is a form of computing that uses quantum-mechanical phenomena, such as superposition and entanglement, to perform operations on data. It is based on the principles of quantum mechanics, which describe the behavior of matter and energy at the atomic and subatomic level. Quantum computing is used to solve complex problems that are intractable for classical computers, such as simulating quantum systems, searching large databases, and factoring large numbers. It has the potential to revolutionize computing, with applications in areas such as cryptography, artificial intelligence, and materials science.\"\n",
      "}\n",
      "```\n",
      "\n",
      "\u001b[0m\n",
      "\n",
      "\u001b[1m> Finished chain.\u001b[0m\n"
     ]
    }
   ],
   "source": [
    "# Define the list of available tools\n",
    "tools = [\n",
    "    Tool(\n",
    "        name=\"arXiv Search\",\n",
    "        func=get_absracts,\n",
    "        description=\"useful for finding research abstracts given a query\",\n",
    "    ),\n",
    "    StructuredTool.from_function(\n",
    "        name=\"Answer Question from Abstracts\",\n",
    "        func=answer_question,\n",
    "        description=\"useful for answering a question given some abstracts\",\n",
    "        args_schema=AnswerQuestionInput,\n",
    "    ),\n",
    "]\n",
    "\n",
    "# Instantiate the agent\n",
    "memory = ConversationBufferMemory()\n",
    "llm = ChatOpenAI(temperature=0, model=\"gpt-3.5-turbo-16k\")\n",
    "\n",
    "zero_shot_agent = initialize_agent(\n",
    "    agent=AgentType.STRUCTURED_CHAT_ZERO_SHOT_REACT_DESCRIPTION,\n",
    "    tools=tools,\n",
    "    llm=llm,\n",
    "    verbose=True,\n",
    ")\n",
    "\n",
    "response = zero_shot_agent.run(\n",
    "    \"Get some abstracts about quantum computing. Then answer the question: What is quantum computing?\"\n",
    ")"
   ]
  },
  {
   "cell_type": "code",
   "execution_count": 4,
   "metadata": {},
   "outputs": [
    {
     "data": {
      "text/plain": [
       "'Quantum computing is a form of computing that uses quantum-mechanical phenomena, such as superposition and entanglement, to perform operations on data. It is based on the principles of quantum mechanics, which describe the behavior of matter and energy at the atomic and subatomic level. Quantum computing is used to solve complex problems that are intractable for classical computers, such as simulating quantum systems, searching large databases, and factoring large numbers. It has the potential to revolutionize computing, with applications in areas such as cryptography, artificial intelligence, and materials science.'"
      ]
     },
     "execution_count": 4,
     "metadata": {},
     "output_type": "execute_result"
    }
   ],
   "source": [
    "response"
   ]
  }
 ],
 "metadata": {
  "kernelspec": {
   "display_name": ".venv",
   "language": "python",
   "name": "python3"
  },
  "language_info": {
   "codemirror_mode": {
    "name": "ipython",
    "version": 3
   },
   "file_extension": ".py",
   "mimetype": "text/x-python",
   "name": "python",
   "nbconvert_exporter": "python",
   "pygments_lexer": "ipython3",
   "version": "3.11.5"
  },
  "orig_nbformat": 4
 },
 "nbformat": 4,
 "nbformat_minor": 2
}
