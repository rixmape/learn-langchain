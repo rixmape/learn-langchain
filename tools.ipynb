{
 "cells": [
  {
   "cell_type": "markdown",
   "metadata": {},
   "source": [
    "## Tools\n",
    "\n",
    "An agent can use tools to interact with the world. Tools include functions, other chains, or even other agents. For example, a function connected to Google Search API can be used by an agent to look for up-to-date information beyond its training dataset.\n",
    "\n",
    "In this notebook, we will explore some built-in tools, then learn how to create custom tools."
   ]
  },
  {
   "cell_type": "markdown",
   "metadata": {},
   "source": [
    "## How to access built-in tools?"
   ]
  },
  {
   "cell_type": "code",
   "execution_count": 1,
   "metadata": {},
   "outputs": [
    {
     "data": {
      "text/plain": [
       "ArxivQueryRun(name='arxiv', description='A wrapper around Arxiv.org Useful for when you need to answer questions about Physics, Mathematics, Computer Science, Quantitative Biology, Quantitative Finance, Statistics, Electrical Engineering, and Economics from scientific articles on arxiv.org. Input should be a search query.', args_schema=None, return_direct=False, verbose=False, callbacks=None, callback_manager=None, tags=None, metadata=None, handle_tool_error=False, api_wrapper=ArxivAPIWrapper(arxiv_search=<class 'arxiv.arxiv.Search'>, arxiv_exceptions=(<class 'arxiv.arxiv.ArxivError'>, <class 'arxiv.arxiv.UnexpectedEmptyPageError'>, <class 'arxiv.arxiv.HTTPError'>), top_k_results=3, ARXIV_MAX_QUERY_LENGTH=300, load_max_docs=100, load_all_available_meta=False, doc_content_chars_max=4000, arxiv_result=<class 'arxiv.arxiv.Result'>))"
      ]
     },
     "execution_count": 1,
     "metadata": {},
     "output_type": "execute_result"
    }
   ],
   "source": [
    "from langchain.agents import load_tools\n",
    "\n",
    "tool_names = [\"arxiv\", \"wikipedia\"]\n",
    "tools = load_tools(tool_names)\n",
    "tools[0]"
   ]
  },
  {
   "cell_type": "markdown",
   "metadata": {},
   "source": [
    "Some tools require you to provide a base LLM."
   ]
  },
  {
   "cell_type": "code",
   "execution_count": 2,
   "metadata": {},
   "outputs": [
    {
     "ename": "ValueError",
     "evalue": "Tool llm-math requires an LLM to be provided",
     "output_type": "error",
     "traceback": [
      "\u001b[1;31m---------------------------------------------------------------------------\u001b[0m",
      "\u001b[1;31mValueError\u001b[0m                                Traceback (most recent call last)",
      "\u001b[1;32md:\\chatgpt\\langchain\\tools.ipynb Cell 5\u001b[0m line \u001b[0;36m2\n\u001b[0;32m      <a href='vscode-notebook-cell:/d%3A/chatgpt/langchain/tools.ipynb#X21sZmlsZQ%3D%3D?line=0'>1</a>\u001b[0m tool_names \u001b[39m=\u001b[39m [\u001b[39m\"\u001b[39m\u001b[39mllm-math\u001b[39m\u001b[39m\"\u001b[39m]\n\u001b[1;32m----> <a href='vscode-notebook-cell:/d%3A/chatgpt/langchain/tools.ipynb#X21sZmlsZQ%3D%3D?line=1'>2</a>\u001b[0m tools \u001b[39m=\u001b[39m load_tools(tool_names)  \u001b[39m# Error, requires value for `llm` param\u001b[39;00m\n\u001b[0;32m      <a href='vscode-notebook-cell:/d%3A/chatgpt/langchain/tools.ipynb#X21sZmlsZQ%3D%3D?line=2'>3</a>\u001b[0m tools[\u001b[39m0\u001b[39m]\n",
      "File \u001b[1;32md:\\chatgpt\\langchain\\.venv\\Lib\\site-packages\\langchain\\agents\\load_tools.py:447\u001b[0m, in \u001b[0;36mload_tools\u001b[1;34m(tool_names, llm, callbacks, **kwargs)\u001b[0m\n\u001b[0;32m    445\u001b[0m \u001b[39melif\u001b[39;00m name \u001b[39min\u001b[39;00m _LLM_TOOLS:\n\u001b[0;32m    446\u001b[0m     \u001b[39mif\u001b[39;00m llm \u001b[39mis\u001b[39;00m \u001b[39mNone\u001b[39;00m:\n\u001b[1;32m--> 447\u001b[0m         \u001b[39mraise\u001b[39;00m \u001b[39mValueError\u001b[39;00m(\u001b[39mf\u001b[39m\u001b[39m\"\u001b[39m\u001b[39mTool \u001b[39m\u001b[39m{\u001b[39;00mname\u001b[39m}\u001b[39;00m\u001b[39m requires an LLM to be provided\u001b[39m\u001b[39m\"\u001b[39m)\n\u001b[0;32m    448\u001b[0m     tool \u001b[39m=\u001b[39m _LLM_TOOLS[name](llm)\n\u001b[0;32m    449\u001b[0m     tools\u001b[39m.\u001b[39mappend(tool)\n",
      "\u001b[1;31mValueError\u001b[0m: Tool llm-math requires an LLM to be provided"
     ]
    }
   ],
   "source": [
    "tool_names = [\"llm-math\"]\n",
    "tools = load_tools(tool_names)  # Error, requires value for `llm` param\n",
    "tools[0]"
   ]
  },
  {
   "cell_type": "code",
   "execution_count": 3,
   "metadata": {},
   "outputs": [
    {
     "data": {
      "text/plain": [
       "('Calculator', 'Useful for when you need to answer questions about math.')"
      ]
     },
     "execution_count": 3,
     "metadata": {},
     "output_type": "execute_result"
    }
   ],
   "source": [
    "from langchain.chat_models import ChatOpenAI\n",
    "\n",
    "tool_names = [\"llm-math\"]\n",
    "tools = load_tools(tool_names, llm=ChatOpenAI(temperature=0))\n",
    "tools[0].name, tools[0].description"
   ]
  },
  {
   "cell_type": "markdown",
   "metadata": {},
   "source": [
    "Other tools require initialization by creating `Tool` object."
   ]
  },
  {
   "cell_type": "code",
   "execution_count": 4,
   "metadata": {},
   "outputs": [
    {
     "data": {
      "text/plain": [
       "('DuckDuckGo Search',\n",
       " \"Useful for when you need to do a search on the internet to find information that another tool can't find. Be specific with your input.\")"
      ]
     },
     "execution_count": 4,
     "metadata": {},
     "output_type": "execute_result"
    }
   ],
   "source": [
    "from langchain.tools import Tool, DuckDuckGoSearchRun\n",
    "\n",
    "search = DuckDuckGoSearchRun()\n",
    "\n",
    "tools = [\n",
    "    Tool(\n",
    "        name=\"DuckDuckGo Search\",\n",
    "        func=search.run,\n",
    "        description=\"Useful for when you need to do a search on the internet to find information that another tool can't find. Be specific with your input.\",\n",
    "    ),\n",
    "]\n",
    "\n",
    "tools[0].name, tools[0].description"
   ]
  },
  {
   "cell_type": "markdown",
   "metadata": {},
   "source": [
    "## How to use a tool?\n",
    "\n",
    "I assume that you know how to create an agent. You can refer to this [webpage](https://python.langchain.com/docs/modules/agents/) for more details.\n",
    "\n",
    "Provide a tool for an agent by passing in the list of tools during its initialization."
   ]
  },
  {
   "cell_type": "code",
   "execution_count": 5,
   "metadata": {},
   "outputs": [],
   "source": [
    "from langchain.agents import AgentType, initialize_agent\n",
    "\n",
    "agent_executor = initialize_agent(\n",
    "    tools=load_tools([\"wikipedia\"]),\n",
    "    llm=ChatOpenAI(temperature=0),\n",
    "    agent=AgentType.ZERO_SHOT_REACT_DESCRIPTION,\n",
    "    verbose=True,\n",
    ")"
   ]
  },
  {
   "cell_type": "code",
   "execution_count": 6,
   "metadata": {},
   "outputs": [
    {
     "name": "stdout",
     "output_type": "stream",
     "text": [
      "\n",
      "\n",
      "\u001b[1m> Entering new AgentExecutor chain...\u001b[0m\n",
      "\u001b[32;1m\u001b[1;3mI should use Wikipedia to find the answer to this question.\n",
      "Action: Wikipedia\n",
      "Action Input: \"Regions of the Philippines\"\u001b[0m\n",
      "Observation: \u001b[36;1m\u001b[1;3mPage: Regions of the Philippines\n",
      "Summary: In the Philippines, regions (Filipino: rehiyon; ISO 3166-2:PH) are administrative divisions that primarily serve to coordinate planning and organize national government services across multiple local government units (LGUs). Most national government offices provide services through their regional branches instead of having direct provincial or city offices. Regional offices are usually but not necessarily located in the city designated as the regional center.\n",
      "As of 2019, the Philippines is divided into 17 regions. 16 of these are mere administrative groupings, each provided by the president of the Philippines with a regional development council (RDC) – in the case of the National Capital Region (Metro Manila), an additional metropolitan authority serves as the coordinating and policy-making body. Only one, the Bangsamoro Autonomous Region in Muslim Mindanao, has an elected government and parliament to which the Congress of the Philippines has delegated certain powers and responsibilities.\n",
      "\n",
      "Page: Autonomous regions of the Philippines\n",
      "Summary: An autonomous region of the Philippines (Filipino: rehiyong awtonomo ng Pilipinas) is a first-level administrative division that has the authority to control a region's culture and economy. The Constitution of the Philippines allows for two autonomous regions: in the Cordilleras and in Muslim Mindanao. Currently, Bangsamoro, which largely consists of the Muslim-majority areas of Mindanao, is the only autonomous region in the country.\n",
      "\n",
      "Page: List of regions of the Philippines by GDP\n",
      "Summary: This is a list of regions and highly urbanized cities of the Philippines by GDP and GDP per capita according to the data by the Philippine Statistics Authority.Data for 2023 estimates (international US$ using 2023 PPP conversion factor from the International Monetary Fund).\u001b[0m\n",
      "Thought:\u001b[32;1m\u001b[1;3mI now know the final answer\n",
      "Final Answer: There are 17 regions in the Philippines.\u001b[0m\n",
      "\n",
      "\u001b[1m> Finished chain.\u001b[0m\n"
     ]
    },
    {
     "data": {
      "text/plain": [
       "'There are 17 regions in the Philippines.'"
      ]
     },
     "execution_count": 6,
     "metadata": {},
     "output_type": "execute_result"
    }
   ],
   "source": [
    "agent_executor.run(\"How many regions are in the Philippines?\")"
   ]
  },
  {
   "cell_type": "markdown",
   "metadata": {},
   "source": [
    "Let's create an agent with access to some tools and a memory."
   ]
  },
  {
   "cell_type": "code",
   "execution_count": 7,
   "metadata": {},
   "outputs": [],
   "source": [
    "from langchain.memory import ConversationBufferMemory\n",
    "\n",
    "memory = ConversationBufferMemory(\n",
    "    memory_key=\"chat_history\",\n",
    "    return_messages=True,\n",
    ")\n",
    "\n",
    "agent_executor = initialize_agent(\n",
    "    tools=load_tools([\"wikipedia\"]),\n",
    "    llm=ChatOpenAI(temperature=0),\n",
    "    agent=AgentType.CHAT_CONVERSATIONAL_REACT_DESCRIPTION,\n",
    "    verbose=True,\n",
    "    memory=memory,\n",
    ")"
   ]
  },
  {
   "cell_type": "code",
   "execution_count": 8,
   "metadata": {},
   "outputs": [
    {
     "name": "stdout",
     "output_type": "stream",
     "text": [
      "\n",
      "\n",
      "\u001b[1m> Entering new AgentExecutor chain...\u001b[0m\n",
      "\u001b[32;1m\u001b[1;3m{\n",
      "    \"action\": \"Wikipedia\",\n",
      "    \"action_input\": \"sourdough bread\"\n",
      "}\u001b[0m\n",
      "Observation: \u001b[36;1m\u001b[1;3mPage: Sourdough\n",
      "Summary: Sourdough or sourdough bread is a bread made by the fermentation of dough using wild lactobacillaceae and yeast. Lactic acid from fermentation imparts a sour taste and improves keeping qualities.\n",
      "\n",
      "Page: List of sourdough breads\n",
      "Summary: This is a list of sourdough breads. Sourdough is prepared through the fermentation of dough using naturally occurring lactobacilli and yeast. The lactic acid produced by the lactobacilli imbues it a more sour taste, as well as extending its shelf life compared to other breads. Sourdough baking has a devoted community today. Many devotees share starters and tips via the Internet, and hobbyists often proudly share their work on social media.\n",
      "\n",
      "Page: History of California bread\n",
      "Summary: The history of California bread as a prominent factor in the field of bread baking dates from the days of the California Gold Rush around 1849, encompassing the development of sourdough bread in San Francisco. It includes the rise of artisan bakeries in the 1980s, which strongly influenced what has been called the \"Bread Revolution\".\n",
      "\n",
      "\u001b[0m\n",
      "Thought:\u001b[32;1m\u001b[1;3m{\n",
      "    \"action\": \"Final Answer\",\n",
      "    \"action_input\": \"Sourdough bread is a bread made by the fermentation of dough using wild lactobacillaceae and yeast. The fermentation process produces lactic acid, which gives the bread its characteristic sour taste and improves its keeping qualities. Sourdough bread has a devoted community of enthusiasts who share starters and tips online, and it has a rich history, particularly in San Francisco during the California Gold Rush. It is known for its artisanal qualities and is enjoyed by many bread lovers around the world.\"\n",
      "}\u001b[0m\n",
      "\n",
      "\u001b[1m> Finished chain.\u001b[0m\n"
     ]
    },
    {
     "data": {
      "text/plain": [
       "'Sourdough bread is a bread made by the fermentation of dough using wild lactobacillaceae and yeast. The fermentation process produces lactic acid, which gives the bread its characteristic sour taste and improves its keeping qualities. Sourdough bread has a devoted community of enthusiasts who share starters and tips online, and it has a rich history, particularly in San Francisco during the California Gold Rush. It is known for its artisanal qualities and is enjoyed by many bread lovers around the world.'"
      ]
     },
     "execution_count": 8,
     "metadata": {},
     "output_type": "execute_result"
    }
   ],
   "source": [
    "agent_executor.run(\"What is sourdough bread?\")"
   ]
  },
  {
   "cell_type": "code",
   "execution_count": 9,
   "metadata": {},
   "outputs": [
    {
     "name": "stdout",
     "output_type": "stream",
     "text": [
      "\n",
      "\n",
      "\u001b[1m> Entering new AgentExecutor chain...\u001b[0m\n",
      "\u001b[32;1m\u001b[1;3m{\n",
      "    \"action\": \"Final Answer\",\n",
      "    \"action_input\": \"We have talked about sourdough bread.\"\n",
      "}\u001b[0m\n",
      "\n",
      "\u001b[1m> Finished chain.\u001b[0m\n"
     ]
    },
    {
     "data": {
      "text/plain": [
       "'We have talked about sourdough bread.'"
      ]
     },
     "execution_count": 9,
     "metadata": {},
     "output_type": "execute_result"
    }
   ],
   "source": [
    "agent_executor.run(\"What have we talked about so far?\")"
   ]
  },
  {
   "cell_type": "code",
   "execution_count": 10,
   "metadata": {},
   "outputs": [
    {
     "data": {
      "text/plain": [
       "[HumanMessage(content='What is sourdough bread?', additional_kwargs={}, example=False),\n",
       " AIMessage(content='Sourdough bread is a bread made by the fermentation of dough using wild lactobacillaceae and yeast. The fermentation process produces lactic acid, which gives the bread its characteristic sour taste and improves its keeping qualities. Sourdough bread has a devoted community of enthusiasts who share starters and tips online, and it has a rich history, particularly in San Francisco during the California Gold Rush. It is known for its artisanal qualities and is enjoyed by many bread lovers around the world.', additional_kwargs={}, example=False),\n",
       " HumanMessage(content='What have we talked about so far?', additional_kwargs={}, example=False),\n",
       " AIMessage(content='We have talked about sourdough bread.', additional_kwargs={}, example=False)]"
      ]
     },
     "execution_count": 10,
     "metadata": {},
     "output_type": "execute_result"
    }
   ],
   "source": [
    "memory.chat_memory.messages"
   ]
  }
 ],
 "metadata": {
  "kernelspec": {
   "display_name": ".venv",
   "language": "python",
   "name": "python3"
  },
  "language_info": {
   "codemirror_mode": {
    "name": "ipython",
    "version": 3
   },
   "file_extension": ".py",
   "mimetype": "text/x-python",
   "name": "python",
   "nbconvert_exporter": "python",
   "pygments_lexer": "ipython3",
   "version": "3.11.5"
  },
  "orig_nbformat": 4
 },
 "nbformat": 4,
 "nbformat_minor": 2
}
