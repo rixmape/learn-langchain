{
 "cells": [
  {
   "cell_type": "markdown",
   "metadata": {},
   "source": [
    "# Query Expansion\n",
    "\n",
    "Query expansion is a technique for improving the precision and recall of a search engine by automatically adding synonyms to, or rephrasing, the original user query. For example, given a query \"cat\", a search engine with a query expansion feature would automatically search for \"cat OR feline\" instead.\n",
    "\n",
    "This notebook demonstrates how query expansion can be used in retrieving relevant research papers in [arXiv](https://arxiv.org). The OpenAI's GPT-3 language model will be used to expand a given query. In particular, here is the workflow:\n",
    "\n",
    "1. Ask for a query from the user\n",
    "2. Use GPT-3 to expand the query\n",
    "3. Search for relevant papers in arXiv\n",
    "4. Display the results"
   ]
  },
  {
   "cell_type": "code",
   "execution_count": 1,
   "metadata": {},
   "outputs": [],
   "source": [
    "import arxiv\n",
    "from langchain.chat_models import ChatOpenAI\n",
    "from langchain.schema import SystemMessage, HumanMessage"
   ]
  },
  {
   "cell_type": "code",
   "execution_count": 2,
   "metadata": {},
   "outputs": [],
   "source": [
    "def expand_query(query, model=\"gpt-3.5-turbo\"):\n",
    "    system_message = \"\"\"Your task is to expand a given query for a search engine by writing relevant keywords. Respond with the query expansion only. Here are some examples:\n",
    "    \n",
    "    Query: What is quantum physics?\n",
    "    Expansion: ti:quantum physics OR ti:superposition OR ti:entanglement qubit\n",
    "\n",
    "    Query: What is Haskell?\n",
    "    Expansion: ti:Haskell OR ti:functional programming OR ti:currying OR ti:first-class functions OR ti:lazy evaluation OR ti:type inference OR ti:monads\n",
    "\n",
    "    Query: Why does bias-variance tradeoff exist?\n",
    "    Expansion: ti:bias-variance OR ti:tradeoff OR ti:bias OR ti:variance OR ti:overfitting OR ti:underfitting\n",
    "    \"\"\"\n",
    "    messages = [\n",
    "        SystemMessage(content=system_message),\n",
    "        HumanMessage(content=f\"Query: {query}\\nExpansion:\"),\n",
    "    ]\n",
    "    chat = ChatOpenAI(model=model, temperature=0)\n",
    "    prediction = chat.predict_messages(messages)\n",
    "    return prediction.content"
   ]
  },
  {
   "cell_type": "code",
   "execution_count": 3,
   "metadata": {},
   "outputs": [
    {
     "name": "stdout",
     "output_type": "stream",
     "text": [
      "Query: What is Shor's algorithm?\n",
      "Expansion: ti:Shor's algorithm OR ti:quantum algorithm OR ti:factoring algorithm OR ti:integer factorization OR ti:quantum computing OR ti:period finding\n"
     ]
    }
   ],
   "source": [
    "query = \"What is Shor's algorithm?\"\n",
    "expansion = expand_query(query)\n",
    "print(f\"Query: {query}\\nExpansion: {expansion}\")"
   ]
  },
  {
   "cell_type": "code",
   "execution_count": 4,
   "metadata": {},
   "outputs": [
    {
     "name": "stdout",
     "output_type": "stream",
     "text": [
      "Tile: Shor's Quantum Factoring Algorithm\n",
      "Summary: This paper is a written version of a one hour lecture given on Peter Shor's\n",
      "quantum factoring algorithm.\n",
      "PDF URL: http://arxiv.org/pdf/quant-ph/0010034v1\n",
      "\n",
      "Tile: Quantum Computing and Shor`s Factoring Algorithm\n",
      "Summary: Lectures on quantum computing. Contents: Algorithms. Quantum circuits.\n",
      "Quantum Fourier transform. Elements of number theory. Modular exponentiation.\n",
      "Shor`s algorithm for finding the order. Computational complexity of Schor`s\n",
      "algorithm. Factoring integers. NP-complete problems.\n",
      "PDF URL: http://arxiv.org/pdf/quant-ph/0109004v1\n",
      "\n",
      "Tile: Fast versions of Shor's quantum factoring algorithm\n",
      "Summary: We present fast and highly parallelized versions of Shor's algorithm. With a\n",
      "sizable quantum computer it would then be possible to factor numbers with\n",
      "millions of digits. The main algorithm presented here uses FFT-based fast\n",
      "integer multiplication. The quick reader can just read the introduction and the\n",
      "``Results'' section.\n",
      "PDF URL: http://arxiv.org/pdf/quant-ph/9806084v1\n",
      "\n",
      "Tile: Shor's quantum factoring algorithm on a photonic chip\n",
      "Summary: Shor's quantum factoring algorithm finds the prime factors of a large number\n",
      "exponentially faster than any other known method a task that lies at the heart\n",
      "of modern information security, particularly on the internet. This algorithm\n",
      "requires a quantum computer a device which harnesses the `massive parallelism'\n",
      "afforded by quantum superposition and entanglement of quantum bits (or qubits).\n",
      "We report the demonstration of a compiled version of Shor's algorithm on an\n",
      "integrated waveguide silica-on-silicon chip that guides four single-photon\n",
      "qubits through the computation to factor 15.\n",
      "PDF URL: http://arxiv.org/pdf/0911.1242v1\n",
      "\n",
      "Tile: Large-scale simulation of Shor's quantum factoring algorithm\n",
      "Summary: Shor's factoring algorithm is one of the most anticipated applications of\n",
      "quantum computing. However, the limited capabilities of today's quantum\n",
      "computers only permit a study of Shor's algorithm for very small numbers. Here\n",
      "we show how large GPU-based supercomputers can be used to assess the\n",
      "performance of Shor's algorithm for numbers that are out of reach for current\n",
      "and near-term quantum hardware. First, we study Shor's original factoring\n",
      "algorithm. While theoretical bounds suggest success probabilities of only 3-4\n",
      "%, we find average success probabilities above 50 %, due to a high frequency of\n",
      "\"lucky\" cases, defined as successful factorizations despite unmet sufficient\n",
      "conditions. Second, we investigate a powerful post-processing procedure, by\n",
      "which the success probability can be brought arbitrarily close to one, with\n",
      "only a single run of Shor's quantum algorithm. Finally, we study the\n",
      "effectiveness of this post-processing procedure in the presence of typical\n",
      "errors in quantum processing hardware. We find that the quantum factoring\n",
      "algorithm exhibits a particular form of universality and resilience against the\n",
      "different types of errors. The largest semiprime that we have factored by\n",
      "executing Shor's algorithm on a GPU-based supercomputer, without exploiting\n",
      "prior knowledge of the solution, is 549755813701 = 712321 * 771781. We put\n",
      "forward the challenge of factoring, without oversimplification, a non-trivial\n",
      "semiprime larger than this number on any quantum computing device.\n",
      "PDF URL: http://arxiv.org/pdf/2308.05047v1\n",
      "\n",
      "Tile: A pseudo-simulation of Shor's quantum factoring algorithm\n",
      "Summary: This paper presents a computer program, written in Maple, that allows a user\n",
      "to simulate certain aspects of Shor's quantum factoring algorithm on a desktop\n",
      "or laptop computer. The program does not simulate the unitary operations\n",
      "carried out by a quantum computer but does faithfully mimic its output at the\n",
      "crucial \"readout\" step of the order-finding process. The program reqires only\n",
      "two inputs from the user - the number to be factored (which can be up to 10\n",
      "digits long) and the number of qubits to be used in the factoring (for which a\n",
      "helpful hint is given). The program then returns a detailed history of all its\n",
      "attempts at factoring the number, beginning with its various unsuccessful\n",
      "attempts and ending with the final successful attempt that leads to the correct\n",
      "factors. The structure of the simulation is described, a typical output\n",
      "produced by it is shown, and the factors limiting its performance are\n",
      "discussed. The purpose of this simulation is to provide the user with some\n",
      "\"hands-on\" experience of how quantum factoring works on integers somewhat\n",
      "larger than can be handled by today's quantum computers.\n",
      "PDF URL: http://arxiv.org/pdf/quant-ph/0206101v1\n",
      "\n",
      "Tile: Dirac formulation for universal quantum gates and Shor's integer factorization in high-frequency electric circuits\n",
      "Summary: Quantum computation may well be performed with the use of electric circuits.\n",
      "Especially, the Schr\\\"{o}dinger equation can be simulated by the lumped-element\n",
      "model of transmission lines, which is applicable to low-frequency electric\n",
      "circuits. In this paper, we show that the Dirac equation is simulated by the\n",
      "distributed-element model, which is applicable to high-frequency electric\n",
      "circuits. Then, a set of universal quantum gates (the Hadamard, phase-shift and\n",
      "CNOT gates) are constructed by networks made of transmission lines. We\n",
      "demonstrate Shor's prime factorization based on electric circuits. It will be\n",
      "possible to simulate any quantum algorithms simply by designing networks of\n",
      "metallic wires.\n",
      "PDF URL: http://arxiv.org/pdf/2004.09757v1\n",
      "\n",
      "Tile: Entanglement of Periodic States, the Quantum Fourier Transform and Shor's Factoring Algorithm\n",
      "Summary: The preprocessing stage of Shor's algorithm generates a class of quantum\n",
      "states referred to as periodic states, on which the quantum Fourier transform\n",
      "is applied. Such states also play an important role in other quantum algorithms\n",
      "that rely on the quantum Fourier transform. Since entanglement is believed to\n",
      "be a necessary resource for quantum computational speedup, we analyze the\n",
      "entanglement of periodic states and the way it is affected by the quantum\n",
      "Fourier transform. To this end, we derive a formula that evaluates the\n",
      "Groverian entanglement measure for periodic states. Using this formula, we\n",
      "explain the surprising result that the Groverian entanglement of the periodic\n",
      "states built up during the preprocessing stage is only slightly affected by the\n",
      "quantum Fourier transform.\n",
      "PDF URL: http://arxiv.org/pdf/1001.3145v2\n",
      "\n"
     ]
    }
   ],
   "source": [
    "search = arxiv.Search(expansion, max_results=8)\n",
    "\n",
    "for result in search.results():\n",
    "    print(f\"Tile: {result.title}\")\n",
    "    print(f\"Summary: {result.summary}\")\n",
    "    print(f\"PDF URL: {result.pdf_url}\")\n",
    "    print()"
   ]
  }
 ],
 "metadata": {
  "kernelspec": {
   "display_name": ".venv",
   "language": "python",
   "name": "python3"
  },
  "language_info": {
   "codemirror_mode": {
    "name": "ipython",
    "version": 3
   },
   "file_extension": ".py",
   "mimetype": "text/x-python",
   "name": "python",
   "nbconvert_exporter": "python",
   "pygments_lexer": "ipython3",
   "version": "3.11.5"
  },
  "orig_nbformat": 4
 },
 "nbformat": 4,
 "nbformat_minor": 2
}
