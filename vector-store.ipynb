{
 "cells": [
  {
   "cell_type": "markdown",
   "metadata": {},
   "source": [
    "# Vectore Store\n",
    "\n",
    "One of the most common ways to store and search over unstructured data is to embed it and store the resulting embedding vectors, and then at query time to embed the unstructured query and retrieve the embedding vectors that are 'most similar' to the embedded query. A vector store takes care of storing embedded data and performing vector search for you.\n",
    "\n",
    "This notebook uses the [chroma](https://www.trychroma.com/) vector database. I prefer it because it is open source, and it is easy to run locally. Other alternatives include [FAISS](https://ai.meta.com/tools/faiss/), [LanceDB](https://lancedb.com/) or [Pinecone](https://www.pinecone.io/)."
   ]
  },
  {
   "cell_type": "code",
   "execution_count": 1,
   "metadata": {},
   "outputs": [],
   "source": [
    "from langchain.document_loaders import TextLoader\n",
    "from langchain.embeddings import OpenAIEmbeddings\n",
    "from langchain.text_splitter import CharacterTextSplitter\n",
    "from langchain.vectorstores import Chroma"
   ]
  },
  {
   "cell_type": "markdown",
   "metadata": {},
   "source": [
    "## Load the document"
   ]
  },
  {
   "cell_type": "code",
   "execution_count": 2,
   "metadata": {},
   "outputs": [],
   "source": [
    "raw_documents = TextLoader(\"./data/vector-essay.txt\").load()"
   ]
  },
  {
   "cell_type": "markdown",
   "metadata": {},
   "source": [
    "## Split the document into chunks"
   ]
  },
  {
   "cell_type": "code",
   "execution_count": 3,
   "metadata": {},
   "outputs": [
    {
     "data": {
      "text/plain": [
       "Document(page_content='Title: Harnessing Vectors and Language Models for Knowledge Base Retrieval: A Comprehensive Exploration\\n\\nIntroduction:\\nAs advancements in artificial intelligence continue to push the boundaries of natural language processing, the power of large language models and their applications is increasingly evident. In this essay, we delve into the world of vectors, text embedding, vector databases, and vector search, highlighting their significance in developing end-to-end web applications for knowledge base retrieval.\\n\\nI. Understanding Vectors:\\nVectors serve as a cornerstone in a diverse range of scientific disciplines, including computer science and mathematics. In the domain of AI, a vector represents a mathematical construct that enables the representation of numerical information. Vectors are widely used for encoding and organizing data, allowing for efficient processing and analysis.', metadata={'source': './data/vector-essay.txt'})"
      ]
     },
     "execution_count": 3,
     "metadata": {},
     "output_type": "execute_result"
    }
   ],
   "source": [
    "embeddings_model = OpenAIEmbeddings()\n",
    "text_splitter = CharacterTextSplitter(\n",
    "    chunk_size=embeddings_model.chunk_size, chunk_overlap=0\n",
    ")\n",
    "documents = text_splitter.split_documents(raw_documents)\n",
    "documents[0]"
   ]
  },
  {
   "cell_type": "markdown",
   "metadata": {},
   "source": [
    "## Store the documents in a vector database"
   ]
  },
  {
   "cell_type": "code",
   "execution_count": 4,
   "metadata": {},
   "outputs": [],
   "source": [
    "db = Chroma.from_documents(documents, embeddings_model)"
   ]
  },
  {
   "cell_type": "markdown",
   "metadata": {},
   "source": [
    "## Search for relevant documents using a query"
   ]
  },
  {
   "cell_type": "code",
   "execution_count": 5,
   "metadata": {},
   "outputs": [
    {
     "name": "stdout",
     "output_type": "stream",
     "text": [
      "IV. Vector Search using Cosine Similarity:\n",
      "Cosine similarity serves as a fundamental metric in vector search. It measures the angular similarity between two vectors, thereby offering a measure of their semantic closeness. In the context of knowledge base retrieval, querying a vector database using cosine similarity allows us to find relevant documents based on their similarity to the input query.\n",
      "\n",
      "V. Applications in Knowledge Base Retrieval:\n",
      "The integration of large language models and vector search techniques has paved the way for developing end-to-end web applications focused on knowledge base retrieval. These applications enable users to search vast repositories of precomputed vector representations, ensuring quick and accurate retrieval of relevant information.\n"
     ]
    }
   ],
   "source": [
    "query = \"What is vector search?\"\n",
    "docs = db.similarity_search(query)\n",
    "print(docs[0].page_content)"
   ]
  },
  {
   "cell_type": "code",
   "execution_count": 6,
   "metadata": {},
   "outputs": [
    {
     "name": "stdout",
     "output_type": "stream",
     "text": [
      "relevance=0.7788229274228644\n",
      "\n",
      "IV. Vector Search using Cosine Similarity:\n",
      "Cosine similarity serves as a fundamental metric in vector search. It measures the angular similarity between two vectors, thereby offering a measure of their semantic closeness. In the context of knowledge base retrieval, querying a vector database using cosine similarity allows us to find relevant documents based on their similarity to the input query.\n",
      "\n",
      "V. Applications in Knowledge Base Retrieval:\n",
      "The integration of large language models and vector search techniques has paved the way for developing end-to-end web applications focused on knowledge base retrieval. These applications enable users to search vast repositories of precomputed vector representations, ensuring quick and accurate retrieval of relevant information.\n",
      "\n",
      "relevance=0.7443720091563626\n",
      "\n",
      "Title: Harnessing Vectors and Language Models for Knowledge Base Retrieval: A Comprehensive Exploration\n",
      "\n",
      "Introduction:\n",
      "As advancements in artificial intelligence continue to push the boundaries of natural language processing, the power of large language models and their applications is increasingly evident. In this essay, we delve into the world of vectors, text embedding, vector databases, and vector search, highlighting their significance in developing end-to-end web applications for knowledge base retrieval.\n",
      "\n",
      "I. Understanding Vectors:\n",
      "Vectors serve as a cornerstone in a diverse range of scientific disciplines, including computer science and mathematics. In the domain of AI, a vector represents a mathematical construct that enables the representation of numerical information. Vectors are widely used for encoding and organizing data, allowing for efficient processing and analysis.\n",
      "\n",
      "relevance=0.7396382226455888\n",
      "\n",
      "II. Clustering in Vector Space:\n",
      "Clustering algorithms allow for the grouping of similar vectors in an unsupervised manner. By organizing vectors into clusters, we can enhance the retrieval process by narrowing down the search space and presenting users with more coherent and relevant results. Techniques like K-means, hierarchical clustering, and density-based clustering are commonly employed to organize vectors based on their similarity or distance metrics.\n",
      "\n",
      "III. Learning to Rank:\n",
      "While traditional vector search methods using cosine similarity provide quick retrieval, they often lack fine-grained relevance ranking. Learning-to-rank approaches address this drawback by training machine learning models to rank documents based on relevance to a given query. Techniques like RankNet, LambdaRank, and ListNet utilize pairwise or listwise learning and exploit various features and signals to optimize ranking performance.\n",
      "\n"
     ]
    }
   ],
   "source": [
    "docs = db.similarity_search_with_relevance_scores(query)\n",
    "for doc, score in docs[:3]:\n",
    "    print(f\"relevance={score}\\n\\n{doc.page_content}\\n\")"
   ]
  },
  {
   "cell_type": "markdown",
   "metadata": {},
   "source": [
    "## Search for relevant documents using a vector"
   ]
  },
  {
   "cell_type": "code",
   "execution_count": 7,
   "metadata": {},
   "outputs": [
    {
     "name": "stdout",
     "output_type": "stream",
     "text": [
      "IV. Vector Search using Cosine Similarity:\n",
      "Cosine similarity serves as a fundamental metric in vector search. It measures the angular similarity between two vectors, thereby offering a measure of their semantic closeness. In the context of knowledge base retrieval, querying a vector database using cosine similarity allows us to find relevant documents based on their similarity to the input query.\n",
      "\n",
      "V. Applications in Knowledge Base Retrieval:\n",
      "The integration of large language models and vector search techniques has paved the way for developing end-to-end web applications focused on knowledge base retrieval. These applications enable users to search vast repositories of precomputed vector representations, ensuring quick and accurate retrieval of relevant information.\n"
     ]
    }
   ],
   "source": [
    "embedding_vector = embeddings_model.embed_query(query)\n",
    "docs = db.similarity_search_by_vector(embedding_vector)\n",
    "print(docs[0].page_content)"
   ]
  }
 ],
 "metadata": {
  "kernelspec": {
   "display_name": ".venv",
   "language": "python",
   "name": "python3"
  },
  "language_info": {
   "codemirror_mode": {
    "name": "ipython",
    "version": 3
   },
   "file_extension": ".py",
   "mimetype": "text/x-python",
   "name": "python",
   "nbconvert_exporter": "python",
   "pygments_lexer": "ipython3",
   "version": "3.11.5"
  },
  "orig_nbformat": 4
 },
 "nbformat": 4,
 "nbformat_minor": 2
}
