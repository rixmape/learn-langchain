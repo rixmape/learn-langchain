{
 "cells": [
  {
   "cell_type": "markdown",
   "metadata": {},
   "source": [
    "# Custom Instruction Generator\n",
    "\n",
    "This notebook leverages [LangChain's prompt templates](https://python.langchain.com/docs/modules/model_io/prompts/prompt_templates/) to generate custom instructions for GPT-3 to follow. The instructions are generated based on the user's input and the output is a string of instructions that can be used by GPT to generate a more tailored response."
   ]
  },
  {
   "cell_type": "code",
   "execution_count": 1,
   "metadata": {},
   "outputs": [],
   "source": [
    "from langchain.chat_models import ChatOpenAI\n",
    "from langchain.prompts import ChatPromptTemplate"
   ]
  },
  {
   "cell_type": "markdown",
   "metadata": {},
   "source": [
    "## Prepare prompt template"
   ]
  },
  {
   "cell_type": "code",
   "execution_count": 2,
   "metadata": {},
   "outputs": [
    {
     "name": "stdout",
     "output_type": "stream",
     "text": [
      "You are a software engineer at Google. You are currently working on a new project about machine learning. Your goal is to produce an knowledge base assistant.\n",
      "\n",
      "A language model is available to you. You can use it to improve your workflow, and achieve your goal. To produce better responses, you must provide the language model with relevant information about yourself. Therefore, please write a statement that introduces yourself. Consider these criteria in writing your statement:\n",
      "\n",
      "- Limit the response to 200 words in 3 paragraphs.\n",
      "- Use first person point-of-view.\n",
      "- Write in academic English. Be formal.\n",
      "- Do not use figurative language. Be on-point.\n",
      "\n",
      "Use these details about yourself in your statement:\n",
      "\n",
      "- Interested in natural language processing and machine learning.\n",
      "- Can use Python and C++ for your work.\n",
      "- Knowledgeable about semantic embedding and cosine similarity.\n",
      "- Planning to use vector databases for the knowledge base.\n",
      "- Experiences difficulty in learning new concepts.\n",
      "- Has a hard time understanding the math behind machine learning.\n",
      "- Good at writing technical documentation.\n",
      "\n"
     ]
    }
   ],
   "source": [
    "user_template = \"\"\"You are a {profession} at {workplace}. You are currently {activity}. Your goal is to {goal}.\n",
    "\n",
    "A language model is available to you. You can use it to improve your workflow, and achieve your goal. To produce better responses, you must provide the language model with relevant information about yourself. Therefore, please write a statement that introduces yourself. Consider these criteria in writing your statement:\n",
    "\n",
    "- Limit the response to 200 words in 3 paragraphs.\n",
    "- Use first person point-of-view.\n",
    "- Write in academic English. Be formal.\n",
    "- Do not use figurative language. Be on-point.\n",
    "\n",
    "Use these details about yourself in your statement:\n",
    "\n",
    "{details}\n",
    "\"\"\"\n",
    "\n",
    "template = ChatPromptTemplate.from_messages([\n",
    "    (\"user\", user_template),\n",
    "])\n",
    "\n",
    "details = [\n",
    "    \"Interested in natural language processing and machine learning.\",\n",
    "    \"Can use Python and C++ for your work.\",\n",
    "    \"Knowledgeable about semantic embedding and cosine similarity.\",\n",
    "    \"Planning to use vector databases for the knowledge base.\",\n",
    "    \"Experiences difficulty in learning new concepts.\",\n",
    "    \"Has a hard time understanding the math behind machine learning.\",\n",
    "    \"Good at writing technical documentation.\",\n",
    "]\n",
    "\n",
    "messages = template.format_messages(\n",
    "    profession=\"software engineer\",\n",
    "    workplace=\"Google\",\n",
    "    activity=\"working on a new project about machine learning\",\n",
    "    goal=\"produce an knowledge base assistant\",\n",
    "    details=\"\\n\".join([\"- \" + d for d in details]),\n",
    ")\n",
    "\n",
    "print(messages[0].content)"
   ]
  },
  {
   "cell_type": "markdown",
   "metadata": {},
   "source": [
    "## Send prompt to OpenAI API\n",
    "\n",
    "When instantiating `ChatOpenAI`, it automatically reads the value of the environment variable `OPENAI_API_KEY` and uses it to authenticate with the OpenAI API. If you have not set this variable, you can pass the key directly to the constructor using the `openai_api_key` parameter. The `ChatOpenAI` class also sets \"gpt-3.5-turbo\" as the default language model. To pass a different model, use the `model` parameter."
   ]
  },
  {
   "cell_type": "code",
   "execution_count": 3,
   "metadata": {},
   "outputs": [
    {
     "name": "stdout",
     "output_type": "stream",
     "text": [
      "I am a software engineer at Google, specializing in natural language processing and machine learning. My passion lies in developing innovative solutions that enhance the capabilities of knowledge base assistants. With expertise in Python and C++, I am adept at implementing algorithms and models to improve the accuracy and efficiency of machine learning systems.\n",
      "\n",
      "In my work, I have extensively utilized semantic embedding and cosine similarity techniques to enhance the understanding and retrieval of information. I am particularly excited about incorporating vector databases into the knowledge base, as they offer a powerful means of organizing and retrieving data efficiently.\n",
      "\n",
      "While I excel in writing technical documentation and translating complex concepts into accessible language, I sometimes face challenges when learning new concepts. In particular, I find it difficult to grasp the mathematical foundations of machine learning. However, I am committed to overcoming these obstacles by seeking additional resources and collaborating with colleagues who possess a strong mathematical background.\n",
      "\n",
      "By leveraging my skills in natural language processing, machine learning, and technical documentation, I am confident in my ability to contribute to the development of a highly effective knowledge base assistant. I am excited to embark on this project and look forward to the opportunities it presents for advancing the field of machine learning.\n"
     ]
    }
   ],
   "source": [
    "chat = ChatOpenAI(temperature=0, max_tokens=256)\n",
    "response = chat(messages)\n",
    "print(response.content)"
   ]
  },
  {
   "cell_type": "code",
   "execution_count": 4,
   "metadata": {},
   "outputs": [
    {
     "name": "stdout",
     "output_type": "stream",
     "text": [
      "Character count: 1454\n",
      "Word count: 211\n",
      "Token count: 231\n"
     ]
    }
   ],
   "source": [
    "print(f\"Character count: {len(response.content)}\")\n",
    "print(f\"Word count: {len(response.content.split())}\")\n",
    "print(f\"Token count: {chat.get_num_tokens(response.content)}\")"
   ]
  }
 ],
 "metadata": {
  "kernelspec": {
   "display_name": ".venv",
   "language": "python",
   "name": "python3"
  },
  "language_info": {
   "codemirror_mode": {
    "name": "ipython",
    "version": 3
   },
   "file_extension": ".py",
   "mimetype": "text/x-python",
   "name": "python",
   "nbconvert_exporter": "python",
   "pygments_lexer": "ipython3",
   "version": "3.11.5"
  },
  "orig_nbformat": 4
 },
 "nbformat": 4,
 "nbformat_minor": 2
}
