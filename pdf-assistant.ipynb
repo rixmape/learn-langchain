{
 "cells": [
  {
   "cell_type": "markdown",
   "metadata": {},
   "source": [
    "# PDF Assistant"
   ]
  },
  {
   "cell_type": "markdown",
   "metadata": {},
   "source": [
    "## Load PDF documents"
   ]
  },
  {
   "cell_type": "code",
   "execution_count": 1,
   "metadata": {},
   "outputs": [],
   "source": [
    "from langchain.document_loaders import PyPDFLoader\n",
    "\n",
    "loader = PyPDFLoader(\"./data/sample.pdf\")\n",
    "pages = loader.load_and_split()"
   ]
  },
  {
   "cell_type": "code",
   "execution_count": 2,
   "metadata": {},
   "outputs": [
    {
     "data": {
      "text/plain": [
       "Document(page_content='Silberschatz, Galvin and Gagne ©2013 Operating System Concepts –9thEdition\\nChapter 4:  Threads', metadata={'source': './data/sample.pdf', 'page': 0})"
      ]
     },
     "execution_count": 2,
     "metadata": {},
     "output_type": "execute_result"
    }
   ],
   "source": [
    "pages[0]"
   ]
  },
  {
   "cell_type": "code",
   "execution_count": 3,
   "metadata": {},
   "outputs": [
    {
     "name": "stdout",
     "output_type": "stream",
     "text": [
      "Page count: 16\n",
      "\n",
      "Page 1: Silberschatz, Galvin and Gagne ©2013 Operating System Concepts –9thEdition\n",
      "Chapter 4:  Threads\n",
      "\n",
      "Page 2: 4.2 Silberschatz, Galvin and Gagne ©2013 Operating System Concepts –9thEdition\n",
      "Chapter 4: Threads\n",
      "Overview\n",
      "Multicore Programming\n",
      "Multithreading Models\n",
      "Threading Issues\n",
      "Operating System Examples\n",
      "\n",
      "Page 3: 4.3 Silberschatz, Galvin and Gagne ©2013 Operating System Concepts –9thEdition\n",
      "Objectives\n",
      "To introduce the notion of a thread —a fundamental unit of CPU \n",
      "utilization that forms the basis of multithreaded computer \n",
      "systems\n",
      "To examine issues related to multithreaded programming\n",
      "To cover operating system support for threads in Windows and \n",
      "Linux\n",
      "\n",
      "Page 4: 4.4 Silberschatz, Galvin and Gagne ©2013 Operating System Concepts –9thEdition\n",
      "Motivation\n",
      "Most modern applications are multithreaded\n",
      "Threads run within application\n",
      "Multiple tasks with the application can be implemented by \n",
      "separate threads\n",
      "Update display\n",
      "Fetch data\n",
      "Spell checking\n",
      "Answer a network request\n",
      "Process creation is heavy -weight while thread creation is \n",
      "light-weight\n",
      "Can simplify code, increase efficiency\n",
      "Kernels are generally multithreaded\n",
      "\n",
      "Page 5: 4.5 Silberschatz, Galvin and Gagne ©2013 Operating System Concepts –9thEdition\n",
      "Multithreaded Server Architecture\n",
      "\n",
      "Page 6: 4.6 Silberschatz, Galvin and Gagne ©2013 Operating System Concepts –9thEdition\n",
      "Benefits\n",
      "Responsiveness –may allow continued execution if part of \n",
      "process is blocked, especially important for user interfaces\n",
      "Resource Sharing –threads share resources of process, easier \n",
      "than shared memory or message passing\n",
      "Economy –cheaper than process creation, thread switching \n",
      "lower overhead than context switching\n",
      "Scalability –process can take advantage of multiprocessor \n",
      "architectures\n",
      "\n",
      "Page 7: 4.7 Silberschatz, Galvin and Gagne ©2013 Operating System Concepts –9thEdition\n",
      "Concurrency vs. Parallelism\n",
      " Concurrent execution on single -core system:\n",
      " Parallelism on a multi -core system:\n",
      "\n",
      "Page 8: 4.8 Silberschatz, Galvin and Gagne ©2013 Operating System Concepts –9thEdition\n",
      "Single and Multithreaded Processes\n",
      "\n",
      "Page 9: 4.9 Silberschatz, Galvin and Gagne ©2013 Operating System Concepts –9thEdition\n",
      "Multithreading Models\n",
      "Many -to-One\n",
      "One-to-One\n",
      "Many -to-Many\n",
      "\n",
      "Page 10: 4.10 Silberschatz, Galvin and Gagne ©2013 Operating System Concepts –9thEdition\n",
      "Many -to-One\n",
      "Many user -level threads mapped to \n",
      "single kernel thread\n",
      "One thread blocking causes all to block\n",
      "Multiple threads may not run in parallel \n",
      "on muticore system because only one \n",
      "may be in kernel at a time\n",
      "Few systems currently use this model\n",
      "Examples:\n",
      "Solaris Green Threads\n",
      "GNU Portable Threads\n",
      "\n",
      "Page 11: 4.11 Silberschatz, Galvin and Gagne ©2013 Operating System Concepts –9thEdition\n",
      "One-to-One\n",
      "Each user -level thread maps to kernel thread\n",
      "Creating a user -level thread creates a kernel thread\n",
      "More concurrency than many -to-one\n",
      "Number of threads per process sometimes \n",
      "restricted due to overhead\n",
      "Examples\n",
      "Windows\n",
      "Linux\n",
      "Solaris 9 and later\n",
      "\n",
      "Page 12: 4.12 Silberschatz, Galvin and Gagne ©2013 Operating System Concepts –9thEdition\n",
      "Many -to-Many Model\n",
      "Allows many user level threads to be \n",
      "mapped to many kernel threads\n",
      "Allows the  operating system to create \n",
      "a sufficient number of kernel threads\n",
      "Solaris prior to version 9\n",
      "Windows  with the ThreadFiber\n",
      "package\n",
      "\n",
      "Page 13: 4.13 Silberschatz, Galvin and Gagne ©2013 Operating System Concepts –9thEdition\n",
      "Threading Issues\n",
      "Semantics of fork() and exec() system calls\n",
      "Signal handling\n",
      "Synchronous and asynchronous\n",
      "Thread cancellation of target thread\n",
      "Asynchronous or deferred\n",
      "Thread -local storage\n",
      "Scheduler Activations\n",
      "\n",
      "Page 14: 4.14 Silberschatz, Galvin and Gagne ©2013 Operating System Concepts –9thEdition\n",
      "Semantics of fork() and exec()\n",
      "Does fork() duplicate only the calling thread or all \n",
      "threads?\n",
      "Some UNIXes have two versions of fork\n",
      "exec() usually works as normal –replace the running \n",
      "process including all threads\n",
      "\n",
      "Page 15: 4.15 Silberschatz, Galvin and Gagne ©2013 Operating System Concepts –9thEdition\n",
      "Thread Cancellation\n",
      "Terminating a thread before it has finished\n",
      "Thread to be canceled is target thread\n",
      "Two general approaches:\n",
      "Asynchronous cancellation terminates the target thread \n",
      "immediately\n",
      "Deferred cancellation allows the target thread to periodically \n",
      "check if it should be cancelled\n",
      "Pthread code to create and cancel a thread:\n",
      "\n",
      "Page 16: Silberschatz, Galvin and Gagne ©2013 Operating System Concepts –9thEdition\n",
      "End of Chapter 4\n",
      "\n"
     ]
    }
   ],
   "source": [
    "print(f\"Page count: {len(pages)}\\n\")\n",
    "for page in pages:\n",
    "    print(f\"Page {page.metadata['page'] + 1}: {page.page_content}\\n\")"
   ]
  },
  {
   "cell_type": "markdown",
   "metadata": {},
   "source": [
    "## Create vector database"
   ]
  },
  {
   "cell_type": "code",
   "execution_count": 4,
   "metadata": {},
   "outputs": [
    {
     "name": "stdout",
     "output_type": "stream",
     "text": [
      "Loading Chroma from disk...\n"
     ]
    }
   ],
   "source": [
    "import os\n",
    "from langchain.vectorstores import Chroma\n",
    "from langchain.embeddings import OpenAIEmbeddings\n",
    "\n",
    "persistency_directory = \"./data/chroma\"\n",
    "embedding_function = OpenAIEmbeddings()\n",
    "\n",
    "if os.path.exists(persistency_directory):\n",
    "    print(\"Loading Chroma from disk...\")\n",
    "    db = Chroma(\n",
    "        persist_directory=persistency_directory,\n",
    "        embedding_function=embedding_function,\n",
    "    )\n",
    "else:\n",
    "    print(\"Creating Chroma from text embeddings...\")\n",
    "    db = Chroma.from_documents(\n",
    "        pages,\n",
    "        OpenAIEmbeddings(),\n",
    "        persist_directory=\"./data/chroma\",\n",
    "    )"
   ]
  },
  {
   "cell_type": "markdown",
   "metadata": {},
   "source": [
    "### Test similarity search"
   ]
  },
  {
   "cell_type": "code",
   "execution_count": 5,
   "metadata": {},
   "outputs": [],
   "source": [
    "query = \"What are the obectives of the presentation?\" \n",
    "docs = db.similarity_search(query)"
   ]
  },
  {
   "cell_type": "code",
   "execution_count": 6,
   "metadata": {},
   "outputs": [
    {
     "name": "stdout",
     "output_type": "stream",
     "text": [
      "4.3 Silberschatz, Galvin and Gagne ©2013 Operating System Concepts –9thEdition\n",
      "Objectives\n",
      "To introduce the notion of a thread —a fundamental unit of CPU \n",
      "utilization that forms the basis of multithreaded computer \n",
      "systems\n",
      "To examine issues related to multithreaded programming\n",
      "To cover operating system support for threads in Windows and \n",
      "Linux\n"
     ]
    }
   ],
   "source": [
    "print(docs[0].page_content)"
   ]
  },
  {
   "cell_type": "markdown",
   "metadata": {},
   "source": [
    "## Create the agent"
   ]
  },
  {
   "cell_type": "code",
   "execution_count": 7,
   "metadata": {},
   "outputs": [],
   "source": [
    "from langchain.chat_models import ChatOpenAI\n",
    "from langchain.chains import RetrievalQA\n",
    "from langchain.agents import initialize_agent, Tool, AgentType\n",
    "from langchain.memory import ConversationBufferMemory\n",
    "\n",
    "llm = ChatOpenAI(temperature=0)\n",
    "\n",
    "ppt_retriever = RetrievalQA.from_chain_type(\n",
    "    llm=llm,\n",
    "    chain_type=\"stuff\",\n",
    "    retriever=db.as_retriever(),\n",
    ")\n",
    "\n",
    "tools = [\n",
    "    Tool(\n",
    "        name=\"Presentation Content Retriever\",\n",
    "        func=ppt_retriever.run,\n",
    "        description=\"useful for finding content inside the presentation\",\n",
    "    )\n",
    "]\n",
    "\n",
    "memory = ConversationBufferMemory(\n",
    "    return_messages=True, memory_key=\"chat_history\"\n",
    ")\n",
    "\n",
    "agent = initialize_agent(\n",
    "    tools,\n",
    "    llm=llm,\n",
    "    agent=AgentType.CHAT_CONVERSATIONAL_REACT_DESCRIPTION,\n",
    "    verbose=True,\n",
    "    memory=memory,\n",
    ")"
   ]
  },
  {
   "cell_type": "code",
   "execution_count": 8,
   "metadata": {},
   "outputs": [
    {
     "name": "stdout",
     "output_type": "stream",
     "text": [
      "\n",
      "\n",
      "\u001b[1m> Entering new AgentExecutor chain...\u001b[0m\n",
      "\u001b[32;1m\u001b[1;3m{\n",
      "    \"action\": \"Presentation Content Retriever\",\n",
      "    \"action_input\": \"stated objectives of the lesson\"\n",
      "}\u001b[0m\n",
      "Observation: \u001b[36;1m\u001b[1;3mThe stated objectives of the lesson are:\n",
      "\n",
      "1. To introduce the notion of a thread - a fundamental unit of CPU utilization that forms the basis of multithreaded computer systems.\n",
      "2. To examine issues related to multithreaded programming.\n",
      "3. To cover operating system support for threads in Windows and Linux.\u001b[0m\n",
      "Thought:\u001b[32;1m\u001b[1;3m{\n",
      "    \"action\": \"Final Answer\",\n",
      "    \"action_input\": \"The stated objectives of the lesson are:\\n\\n1. To introduce the notion of a thread - a fundamental unit of CPU utilization that forms the basis of multithreaded computer systems.\\n2. To examine issues related to multithreaded programming.\\n3. To cover operating system support for threads in Windows and Linux.\"\n",
      "}\u001b[0m\n",
      "\n",
      "\u001b[1m> Finished chain.\u001b[0m\n",
      "The stated objectives of the lesson are:\n",
      "\n",
      "1. To introduce the notion of a thread - a fundamental unit of CPU utilization that forms the basis of multithreaded computer systems.\n",
      "2. To examine issues related to multithreaded programming.\n",
      "3. To cover operating system support for threads in Windows and Linux.\n"
     ]
    }
   ],
   "source": [
    "query = \"What are the stated objectives of the lesson? Format your answer as a list of bullet points.\"\n",
    "response = agent.run(query)\n",
    "print(response)"
   ]
  }
 ],
 "metadata": {
  "kernelspec": {
   "display_name": ".venv",
   "language": "python",
   "name": "python3"
  },
  "language_info": {
   "codemirror_mode": {
    "name": "ipython",
    "version": 3
   },
   "file_extension": ".py",
   "mimetype": "text/x-python",
   "name": "python",
   "nbconvert_exporter": "python",
   "pygments_lexer": "ipython3",
   "version": "3.11.5"
  },
  "orig_nbformat": 4
 },
 "nbformat": 4,
 "nbformat_minor": 2
}
