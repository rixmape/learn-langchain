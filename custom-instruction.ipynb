{
 "cells": [
  {
   "cell_type": "markdown",
   "metadata": {},
   "source": [
    "# Custom Instruction Generator\n",
    "\n",
    "This notebook leverages [LangChain's prompt templates](https://python.langchain.com/docs/modules/model_io/prompts/prompt_templates/) to generate custom instructions for GPT-3 to follow. The instructions are generated based on the user's input and the output is a string of instructions that can be used by GPT to generate a more tailored response."
   ]
  },
  {
   "cell_type": "code",
   "execution_count": 1,
   "metadata": {},
   "outputs": [],
   "source": [
    "from langchain.chat_models import ChatOpenAI\n",
    "from langchain.prompts import ChatPromptTemplate\n",
    "from langchain.callbacks.streaming_stdout import StreamingStdOutCallbackHandler"
   ]
  },
  {
   "cell_type": "markdown",
   "metadata": {},
   "source": [
    "## Prepare prompt template"
   ]
  },
  {
   "cell_type": "code",
   "execution_count": 2,
   "metadata": {},
   "outputs": [
    {
     "name": "stdout",
     "output_type": "stream",
     "text": [
      "You are a software engineer at Google. You are currently working on a new project about large language models. Your goal is to build a student feedback analyzer for teachers.\n",
      "\n",
      "A language model is available to you. You can use it to improve your workflow, and achieve your goal. To produce better responses, you must provide the language model with relevant information about yourself. Therefore, please write a statement that introduces yourself. Consider these criteria in writing your statement:\n",
      "\n",
      "- Limit the response to 200 words.\n",
      "- Use first person point-of-view.\n",
      "- Write in academic English. Be formal.\n",
      "- Do not use figurative language. Be on-point.\n",
      "\n",
      "Use these details about yourself in your statement:\n",
      "\n",
      "- Avid artificial intelligence enthusiast\n",
      "- Focused on machine learning and natural language processing\n",
      "- Expert at using Python and its libraries\n",
      "- Wants to learn more about large language models\n",
      "- Prefers step-by-step explanations and practical examples\n",
      "- Curious about vector database, semantic search, and prompt engineering\n",
      "\n"
     ]
    }
   ],
   "source": [
    "user_template = \"\"\"You are a {profession} at {workplace}. You are currently {activity}. Your goal is to {goal}.\n",
    "\n",
    "A language model is available to you. You can use it to improve your workflow, and achieve your goal. To produce better responses, you must provide the language model with relevant information about yourself. Therefore, please write a statement that introduces yourself. Consider these criteria in writing your statement:\n",
    "\n",
    "- Limit the response to 200 words.\n",
    "- Use first person point-of-view.\n",
    "- Write in academic English. Be formal.\n",
    "- Do not use figurative language. Be on-point.\n",
    "\n",
    "Use these details about yourself in your statement:\n",
    "\n",
    "{details}\n",
    "\"\"\"\n",
    "\n",
    "template = ChatPromptTemplate.from_messages([\n",
    "    (\"user\", user_template),\n",
    "])\n",
    "\n",
    "details = [\n",
    "    \"Avid artificial intelligence enthusiast\",\n",
    "    \"Focused on machine learning and natural language processing\",\n",
    "    \"Expert at using Python and its libraries\",\n",
    "    \"Wants to learn more about large language models\",\n",
    "    \"Prefers step-by-step explanations and practical examples\",\n",
    "    \"Curious about vector database, semantic search, and prompt engineering\",\n",
    "]\n",
    "\n",
    "messages = template.format_messages(\n",
    "    profession=\"software engineer\",\n",
    "    workplace=\"Google\",\n",
    "    activity=\"working on a new project about large language models\",\n",
    "    goal=\"build a student feedback analyzer for teachers\",\n",
    "    details=\"\\n\".join([\"- \" + d for d in details]),\n",
    ")\n",
    "\n",
    "print(messages[0].content)"
   ]
  },
  {
   "cell_type": "markdown",
   "metadata": {},
   "source": [
    "## Send prompt to OpenAI API\n",
    "\n",
    "When instantiating `ChatOpenAI`, it automatically reads the value of the environment variable `OPENAI_API_KEY` and uses it to authenticate with the OpenAI API. If you have not set this variable, you can pass the key directly to the constructor using the `openai_api_key` parameter. The `ChatOpenAI` class also sets \"gpt-3.5-turbo\" as the default language model. To pass a different model, use the `model` parameter."
   ]
  },
  {
   "cell_type": "code",
   "execution_count": 3,
   "metadata": {},
   "outputs": [
    {
     "name": "stdout",
     "output_type": "stream",
     "text": [
      "I am an avid artificial intelligence enthusiast, specializing in machine learning and natural language processing. With a strong command over Python and its libraries, I have honed my skills in developing efficient and effective software solutions. Currently, I am working on a project at Google, aiming to build a student feedback analyzer for teachers.\n",
      "\n",
      "In my pursuit of excellence, I am eager to explore the realm of large language models. I believe that these models hold immense potential in revolutionizing the way we analyze and understand textual data. To enhance my workflow and achieve optimal results, I am keen on leveraging the capabilities of the language model at my disposal.\n",
      "\n",
      "As a software engineer, I thrive on step-by-step explanations and practical examples. I find that this approach not only deepens my understanding but also enables me to apply my knowledge effectively. Therefore, I am particularly interested in exploring concepts such as vector databases, semantic search, and prompt engineering. These areas of study have the potential to significantly enhance the accuracy and efficiency of the student feedback analyzer I am developing.\n",
      "\n",
      "By leveraging the power of large language models and delving into the intricacies of vector databases, semantic search, and prompt engineering, I am confident that I can create a robust and insightful tool for teachers. I am excited to embark on this journey of exploration and innovation, pushing the boundaries of what is possible in the field of natural language processing."
     ]
    }
   ],
   "source": [
    "chat = ChatOpenAI(\n",
    "    streaming=True,\n",
    "    callbacks=[StreamingStdOutCallbackHandler()],\n",
    "    temperature=0,\n",
    ")\n",
    "\n",
    "response = chat(messages)"
   ]
  },
  {
   "cell_type": "code",
   "execution_count": 4,
   "metadata": {},
   "outputs": [
    {
     "name": "stdout",
     "output_type": "stream",
     "text": [
      "Raw response containing all message chunks:\n",
      "\n",
      "content='I am an avid artificial intelligence enthusiast, specializing in machine learning and natural language processing. With a strong command over Python and its libraries, I have honed my skills in developing efficient and effective software solutions. Currently, I am working on a project at Google, aiming to build a student feedback analyzer for teachers.\\n\\nIn my pursuit of excellence, I am eager to explore the realm of large language models. I believe that these models hold immense potential in revolutionizing the way we analyze and understand textual data. To enhance my workflow and achieve optimal results, I am keen on leveraging the capabilities of the language model at my disposal.\\n\\nAs a software engineer, I thrive on step-by-step explanations and practical examples. I find that this approach not only deepens my understanding but also enables me to apply my knowledge effectively. Therefore, I am particularly interested in exploring concepts such as vector databases, semantic search, and prompt engineering. These areas of study have the potential to significantly enhance the accuracy and efficiency of the student feedback analyzer I am developing.\\n\\nBy leveraging the power of large language models and delving into the intricacies of vector databases, semantic search, and prompt engineering, I am confident that I can create a robust and insightful tool for teachers. I am excited to embark on this journey of exploration and innovation, pushing the boundaries of what is possible in the field of natural language processing.' additional_kwargs={} example=False\n",
      "\n",
      "Character count: 1544\n",
      "Word count: 241\n",
      "Token count: 274\n"
     ]
    }
   ],
   "source": [
    "print(f\"Raw response containing all message chunks:\\n\\n{response}\\n\")\n",
    "print(f\"Character count: {len(response.content)}\")\n",
    "print(f\"Word count: {len(response.content.split())}\")\n",
    "print(f\"Token count: {chat.get_num_tokens(response.content)}\")"
   ]
  }
 ],
 "metadata": {
  "kernelspec": {
   "display_name": ".venv",
   "language": "python",
   "name": "python3"
  },
  "language_info": {
   "codemirror_mode": {
    "name": "ipython",
    "version": 3
   },
   "file_extension": ".py",
   "mimetype": "text/x-python",
   "name": "python",
   "nbconvert_exporter": "python",
   "pygments_lexer": "ipython3",
   "version": "3.11.5"
  },
  "orig_nbformat": 4
 },
 "nbformat": 4,
 "nbformat_minor": 2
}
